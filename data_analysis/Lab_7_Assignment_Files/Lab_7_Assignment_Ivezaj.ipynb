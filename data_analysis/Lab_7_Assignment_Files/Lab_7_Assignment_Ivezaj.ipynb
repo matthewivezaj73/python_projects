{
 "cells": [
  {
   "cell_type": "markdown",
   "metadata": {},
   "source": [
    "# Lab Assignment 7"
   ]
  },
  {
   "cell_type": "markdown",
   "metadata": {},
   "source": [
    "## Chapter 12 Advanced pandas"
   ]
  },
  {
   "cell_type": "code",
   "execution_count": 1,
   "metadata": {},
   "outputs": [],
   "source": [
    "# Import Series and DataFrame into local namespace\n",
    "import numpy as np\n",
    "import pandas as pd\n",
    "from pandas import Series, DataFrame\n",
    "# Import Matplotlib\n",
    "import matplotlib.pyplot as plt\n",
    "# Import datetime\n",
    "from datetime import datetime"
   ]
  },
  {
   "cell_type": "markdown",
   "metadata": {},
   "source": [
    "## Problem 1"
   ]
  },
  {
   "cell_type": "markdown",
   "metadata": {},
   "source": [
    "#### In this problem, you  will type out the input lines In [12] thorugh In [21] on pages 369-370 of the textbook. "
   ]
  },
  {
   "cell_type": "code",
   "execution_count": 2,
   "metadata": {},
   "outputs": [
    {
     "data": {
      "text/plain": [
       "0     apple\n",
       "1    orange\n",
       "0     apple\n",
       "0     apple\n",
       "0     apple\n",
       "1    orange\n",
       "0     apple\n",
       "0     apple\n",
       "dtype: object"
      ]
     },
     "execution_count": 2,
     "metadata": {},
     "output_type": "execute_result"
    }
   ],
   "source": [
    "# Insert commenting and code in this cell.\n",
    "#Importing numpy and pandas.\n",
    "import numpy as np; import pandas as pd\n",
    "#Creating a series.\n",
    "values = pd.Series(['apple', 'orange', 'apple',\n",
    "                    'apple'] * 2)\n",
    "#Displaying the values.\n",
    "values\n",
    "#Extracting unique values.\n",
    "pd.unique(values)\n",
    "#Comparing frequencies.\n",
    "pd.value_counts(values)\n",
    "#Creating a series.\n",
    "values = pd.Series([0, 1, 0, 0] * 2)\n",
    "#Creating another series.\n",
    "dim = pd.Series(['apple', 'orange'])\n",
    "#Displaying the series.\n",
    "values\n",
    "#Displaying the other series.\n",
    "dim\n",
    "#Restoring the original values.\n",
    "dim.take(values)\n"
   ]
  },
  {
   "cell_type": "markdown",
   "metadata": {},
   "source": [
    "## Problem 2"
   ]
  },
  {
   "cell_type": "markdown",
   "metadata": {},
   "source": [
    "#### In this problem, you will type out the input lines In [22] - In [42] on pages 371-373 of the textbook. "
   ]
  },
  {
   "cell_type": "code",
   "execution_count": 3,
   "metadata": {},
   "outputs": [
    {
     "data": {
      "text/plain": [
       "['foo', 'bar', 'baz', 'foo', 'foo', 'bar']\n",
       "Categories (3, object): ['foo' < 'bar' < 'baz']"
      ]
     },
     "execution_count": 3,
     "metadata": {},
     "output_type": "execute_result"
    }
   ],
   "source": [
    "# Insert commenting and code in this cell.\n",
    "#Creating a list an multiplying the elements by 2.\n",
    "fruits = ['apple', 'orange', 'apple', 'apple'] * 2\n",
    "#Creating a variable and assigning it the length of the list.\n",
    "N = len(fruits)\n",
    "#Creating a dataframe.\n",
    "df = pd.DataFrame({'fruit': fruits,\n",
    "                   'basket_id': np.arange(N),\n",
    "                   'count': np.random.randint(3, 15, size=N),\n",
    "                   'weight': np.random.uniform(0, 4, size=N)},\n",
    "                   columns=['basket_id', 'fruit', 'count', 'weight'])\n",
    "#Displaying the dataframe.\n",
    "df\n",
    "#Converting one of the columns to a categorical object.\n",
    "fruit_cat = df['fruit'].astype('category')\n",
    "#Displaying the column.\n",
    "fruit_cat\n",
    "#Grabbing the values of fruit_cat and assigning them to a variable.\n",
    "c = fruit_cat.values\n",
    "#grabbing the type of the variable.\n",
    "type(c)\n",
    "#Grabbing the category attributes.\n",
    "c.categories\n",
    "#Grabbing the codes attributes.\n",
    "c.codes\n",
    "#Converting a dataframe column to categorical by assigning the converted result.\n",
    "df['fruit'] = df['fruit'].astype('category')\n",
    "#Displaying the category.\n",
    "df.fruit\n",
    "#Making a set of categories.\n",
    "my_categories = pd.Categorical(['foo', 'bar', 'baz', 'foo', 'bar'])\n",
    "#Displaying the categories.\n",
    "my_categories\n",
    "#Creating a list of categories.\n",
    "categories = ['foo', 'bar', 'baz']\n",
    "#Creating a list of codes.\n",
    "codes = [0, 1, 2, 0, 0, 1]\n",
    "#Converting the codes to category types and assigning it to a variable.\n",
    "my_cats_2 = pd.Categorical.from_codes(codes, categories)\n",
    "#Displaying the newly converted categories.\n",
    "my_cats_2\n",
    "#Using from_codes to give the categories a meaningful order.\n",
    "ordered_cat = pd.Categorical.from_codes(codes, categories,\n",
    "                                        ordered=True)\n",
    "#Displaying ordered_cat to the screen.\n",
    "ordered_cat\n",
    "#Ordering an unordered instance.\n",
    "my_cats_2.as_ordered()"
   ]
  },
  {
   "cell_type": "markdown",
   "metadata": {},
   "source": [
    "## Problem 3"
   ]
  },
  {
   "cell_type": "markdown",
   "metadata": {},
   "source": [
    "#### In this problem, you will type out the input lines In [43] - In [54] on pages 373-375 of the textbook."
   ]
  },
  {
   "cell_type": "code",
   "execution_count": 4,
   "metadata": {},
   "outputs": [
    {
     "data": {
      "text/plain": [
       "0    Q1\n",
       "1    Q2\n",
       "2    Q3\n",
       "3    Q4\n",
       "Name: quartile, dtype: category\n",
       "Categories (4, object): ['Q1' < 'Q2' < 'Q3' < 'Q4']"
      ]
     },
     "execution_count": 4,
     "metadata": {},
     "output_type": "execute_result"
    }
   ],
   "source": [
    "# Insert commenting and code in this cell.\n",
    "#Generating random numbers based off of the specified clock speed.\n",
    "np.random.seed(12345)\n",
    "#Generating a random number and assigning it to a variable.\n",
    "draws = np.random.randn(1000)\n",
    "#Displaying the array in the 6th position.\n",
    "draws[:5]\n",
    "#Using qcut binning function.\n",
    "bins = pd.qcut(draws, 4)\n",
    "#Displaying the contents of bins.\n",
    "bins\n",
    "#Applying the qcut function.\n",
    "bins = pd.qcut(draws, 4, labels=['Q1', 'Q2', 'Q3', 'Q4'])\n",
    "#Displaying the contents of bins.\n",
    "bins\n",
    "#Displaying the first 10 elements.\n",
    "bins.codes[:10]\n",
    "#Creating a series.\n",
    "bins = pd.Series(bins, name='quartile')\n",
    "#Using groupby to extract summary statistics.\n",
    "results = (pd.Series(draws)\n",
    "           .groupby(bins)\n",
    "           .agg(['count', 'min', 'max'])\n",
    "           .reset_index())\n",
    "#Displaying the sorted series to the user.\n",
    "results\n",
    "#Displaying only the quartile column.\n",
    "results['quartile']"
   ]
  },
  {
   "cell_type": "markdown",
   "metadata": {},
   "source": [
    "## Problem 4"
   ]
  },
  {
   "cell_type": "markdown",
   "metadata": {},
   "source": [
    "#### In this problem, you  will type out the input lines In [55] - In [61] on page 375 of the textbook."
   ]
  },
  {
   "cell_type": "code",
   "execution_count": 5,
   "metadata": {},
   "outputs": [
    {
     "name": "stdout",
     "output_type": "stream",
     "text": [
      "Wall time: 350 ms\n"
     ]
    }
   ],
   "source": [
    "# Insert commenting and code in this cell.\n",
    "#Creating a variable.\n",
    "N = 10000000\n",
    "#Creating a series from the variable we created above.\n",
    "draws = pd.Series(np.random.randn(N))\n",
    "#Creating a series with distinct values.\n",
    "labels = pd.Series(['foo', 'bar', 'baz', 'qux'] * (N // 4))\n",
    "#Converting labels to a categorical.\n",
    "categories = labels.astype('category')\n",
    "#Checking the memory usage from labels.\n",
    "labels.memory_usage()\n",
    "#Checking the memory usage from categories.\n",
    "categories.memory_usage()\n",
    "#Computing conversion to category cost.\n",
    "%time _ = labels.astype('category')"
   ]
  },
  {
   "cell_type": "markdown",
   "metadata": {},
   "source": [
    "## Problem 5"
   ]
  },
  {
   "cell_type": "markdown",
   "metadata": {},
   "source": [
    "#### In this problem, you  will type out the input lines In [62] - In [76] on page 376-378 of the textbook."
   ]
  },
  {
   "cell_type": "code",
   "execution_count": 6,
   "metadata": {},
   "outputs": [
    {
     "data": {
      "text/html": [
       "<div>\n",
       "<style scoped>\n",
       "    .dataframe tbody tr th:only-of-type {\n",
       "        vertical-align: middle;\n",
       "    }\n",
       "\n",
       "    .dataframe tbody tr th {\n",
       "        vertical-align: top;\n",
       "    }\n",
       "\n",
       "    .dataframe thead th {\n",
       "        text-align: right;\n",
       "    }\n",
       "</style>\n",
       "<table border=\"1\" class=\"dataframe\">\n",
       "  <thead>\n",
       "    <tr style=\"text-align: right;\">\n",
       "      <th></th>\n",
       "      <th>a</th>\n",
       "      <th>b</th>\n",
       "      <th>c</th>\n",
       "      <th>d</th>\n",
       "    </tr>\n",
       "  </thead>\n",
       "  <tbody>\n",
       "    <tr>\n",
       "      <th>0</th>\n",
       "      <td>1</td>\n",
       "      <td>0</td>\n",
       "      <td>0</td>\n",
       "      <td>0</td>\n",
       "    </tr>\n",
       "    <tr>\n",
       "      <th>1</th>\n",
       "      <td>0</td>\n",
       "      <td>1</td>\n",
       "      <td>0</td>\n",
       "      <td>0</td>\n",
       "    </tr>\n",
       "    <tr>\n",
       "      <th>2</th>\n",
       "      <td>0</td>\n",
       "      <td>0</td>\n",
       "      <td>1</td>\n",
       "      <td>0</td>\n",
       "    </tr>\n",
       "    <tr>\n",
       "      <th>3</th>\n",
       "      <td>0</td>\n",
       "      <td>0</td>\n",
       "      <td>0</td>\n",
       "      <td>1</td>\n",
       "    </tr>\n",
       "    <tr>\n",
       "      <th>4</th>\n",
       "      <td>1</td>\n",
       "      <td>0</td>\n",
       "      <td>0</td>\n",
       "      <td>0</td>\n",
       "    </tr>\n",
       "    <tr>\n",
       "      <th>5</th>\n",
       "      <td>0</td>\n",
       "      <td>1</td>\n",
       "      <td>0</td>\n",
       "      <td>0</td>\n",
       "    </tr>\n",
       "    <tr>\n",
       "      <th>6</th>\n",
       "      <td>0</td>\n",
       "      <td>0</td>\n",
       "      <td>1</td>\n",
       "      <td>0</td>\n",
       "    </tr>\n",
       "    <tr>\n",
       "      <th>7</th>\n",
       "      <td>0</td>\n",
       "      <td>0</td>\n",
       "      <td>0</td>\n",
       "      <td>1</td>\n",
       "    </tr>\n",
       "  </tbody>\n",
       "</table>\n",
       "</div>"
      ],
      "text/plain": [
       "   a  b  c  d\n",
       "0  1  0  0  0\n",
       "1  0  1  0  0\n",
       "2  0  0  1  0\n",
       "3  0  0  0  1\n",
       "4  1  0  0  0\n",
       "5  0  1  0  0\n",
       "6  0  0  1  0\n",
       "7  0  0  0  1"
      ]
     },
     "execution_count": 6,
     "metadata": {},
     "output_type": "execute_result"
    }
   ],
   "source": [
    "# Insert commenting and code in this cell.\n",
    "#Creating a series.\n",
    "s = pd.Series(['a', 'b', 'c', 'd'] * 2)\n",
    "#Categorizing the series.\n",
    "cat_s = s.astype('category')\n",
    "#Displaying the series.\n",
    "cat_s\n",
    "#Accessing the categorical methods.\n",
    "cat_s.cat.codes\n",
    "cat_s.cat.categories\n",
    "#Creating a set of categories.\n",
    "actual_categories = ['a', 'b', 'c', 'd', 'e']\n",
    "#using the set_categories method to change the categories.\n",
    "cat_s2 = cat_s.cat.set_categories(actual_categories)\n",
    "#Displaying the catefories.\n",
    "cat_s2\n",
    "#Displaying all of the categories with value_counts() for both sets of series.\n",
    "cat_s.value_counts()\n",
    "cat_s2.value_counts()\n",
    "#Making a new series out of a subset from the last series.\n",
    "cat_s3 = cat_s[cat_s.isin(['a', 'b'])]\n",
    "#Displaying the newly formed series.\n",
    "cat_s3\n",
    "#Using a method to remove the unused categories.\n",
    "cat_s3.cat.remove_unused_categories()\n",
    "#Creating a categorized series and assigning it to a variable.\n",
    "cat_s = pd.Series(['a', 'b', 'c', 'd'] * 2, dtype='category')\n",
    "#Using the pandas.get_dummies function to convert a one-dimensional categorical data into a DataFrame containing the dummy variable.\n",
    "pd.get_dummies(cat_s)"
   ]
  },
  {
   "cell_type": "markdown",
   "metadata": {},
   "source": [
    "## Problem 6"
   ]
  },
  {
   "cell_type": "markdown",
   "metadata": {},
   "source": [
    "#### In this problem, you  will type out the input lines In [77] - In [101] on page 379-384 of the textbook."
   ]
  },
  {
   "cell_type": "code",
   "execution_count": 7,
   "metadata": {},
   "outputs": [
    {
     "data": {
      "text/html": [
       "<div>\n",
       "<style scoped>\n",
       "    .dataframe tbody tr th:only-of-type {\n",
       "        vertical-align: middle;\n",
       "    }\n",
       "\n",
       "    .dataframe tbody tr th {\n",
       "        vertical-align: top;\n",
       "    }\n",
       "\n",
       "    .dataframe thead th {\n",
       "        text-align: right;\n",
       "    }\n",
       "</style>\n",
       "<table border=\"1\" class=\"dataframe\">\n",
       "  <thead>\n",
       "    <tr style=\"text-align: right;\">\n",
       "      <th></th>\n",
       "      <th>key</th>\n",
       "      <th>time</th>\n",
       "      <th>value</th>\n",
       "    </tr>\n",
       "  </thead>\n",
       "  <tbody>\n",
       "    <tr>\n",
       "      <th>0</th>\n",
       "      <td>a</td>\n",
       "      <td>2017-05-20 00:00:00</td>\n",
       "      <td>30.0</td>\n",
       "    </tr>\n",
       "    <tr>\n",
       "      <th>1</th>\n",
       "      <td>a</td>\n",
       "      <td>2017-05-20 00:05:00</td>\n",
       "      <td>105.0</td>\n",
       "    </tr>\n",
       "    <tr>\n",
       "      <th>2</th>\n",
       "      <td>a</td>\n",
       "      <td>2017-05-20 00:10:00</td>\n",
       "      <td>180.0</td>\n",
       "    </tr>\n",
       "    <tr>\n",
       "      <th>3</th>\n",
       "      <td>b</td>\n",
       "      <td>2017-05-20 00:00:00</td>\n",
       "      <td>35.0</td>\n",
       "    </tr>\n",
       "    <tr>\n",
       "      <th>4</th>\n",
       "      <td>b</td>\n",
       "      <td>2017-05-20 00:05:00</td>\n",
       "      <td>110.0</td>\n",
       "    </tr>\n",
       "    <tr>\n",
       "      <th>5</th>\n",
       "      <td>b</td>\n",
       "      <td>2017-05-20 00:10:00</td>\n",
       "      <td>185.0</td>\n",
       "    </tr>\n",
       "    <tr>\n",
       "      <th>6</th>\n",
       "      <td>c</td>\n",
       "      <td>2017-05-20 00:00:00</td>\n",
       "      <td>40.0</td>\n",
       "    </tr>\n",
       "    <tr>\n",
       "      <th>7</th>\n",
       "      <td>c</td>\n",
       "      <td>2017-05-20 00:05:00</td>\n",
       "      <td>115.0</td>\n",
       "    </tr>\n",
       "    <tr>\n",
       "      <th>8</th>\n",
       "      <td>c</td>\n",
       "      <td>2017-05-20 00:10:00</td>\n",
       "      <td>190.0</td>\n",
       "    </tr>\n",
       "  </tbody>\n",
       "</table>\n",
       "</div>"
      ],
      "text/plain": [
       "  key                time  value\n",
       "0   a 2017-05-20 00:00:00   30.0\n",
       "1   a 2017-05-20 00:05:00  105.0\n",
       "2   a 2017-05-20 00:10:00  180.0\n",
       "3   b 2017-05-20 00:00:00   35.0\n",
       "4   b 2017-05-20 00:05:00  110.0\n",
       "5   b 2017-05-20 00:10:00  185.0\n",
       "6   c 2017-05-20 00:00:00   40.0\n",
       "7   c 2017-05-20 00:05:00  115.0\n",
       "8   c 2017-05-20 00:10:00  190.0"
      ]
     },
     "execution_count": 7,
     "metadata": {},
     "output_type": "execute_result"
    }
   ],
   "source": [
    "# Insert commenting and code in this cell.\n",
    "#Creating a dataframe.\n",
    "df = pd.DataFrame({'key': ['a', 'b', 'c'] * 4,\n",
    "                   'value': np.arange(12.)})\n",
    "#Displaying the dataframe.\n",
    "df\n",
    "#Displaying the group means by key.\n",
    "g = df.groupby('key').value\n",
    "#Displaying the mean of each key.\n",
    "g.mean()\n",
    "#Passing the lambda function to transform.\n",
    "g.transform(lambda x: x * 2)\n",
    "#Passing the lambda function to transform.\n",
    "g.transform(lambda x: x.mean())\n",
    "#passing a string alias as with the GroupBy agg method\n",
    "g.transform('mean')\n",
    "#Computing the ranks in descending order for each group.\n",
    "g.transform(lambda x: x.rank(ascending=False))\n",
    "#Creating a function.\n",
    "def normalize(x):\n",
    "    return (x - x.mean()) / x.std()\n",
    "#obtain equivalent results in this case either using transform or apply.\n",
    "g.transform(normalize)\n",
    "#Applying normalize to the dataset.\n",
    "g.apply(normalize)\n",
    "#Creating an unwrapped group operation put of statistical functions.\n",
    "g.transform('mean')\n",
    "#Creating a normalized function.\n",
    "normalized = (df['value'] - g.transform('mean')) / g.transform('std')\n",
    "#Displaying the conents of normalized.\n",
    "normalized\n",
    "#Creating a variable.\n",
    "N = 15\n",
    "#Creating a times variable and assigning it a date range.\n",
    "times = pd.date_range('2017-05-20 00:00', freq='1min', periods=N)\n",
    "#Creating a dataframe.\n",
    "df = pd.DataFrame({'time': times,\n",
    "                   'value': np.arange(N)})\n",
    "#Displaying the dataframe.\n",
    "df\n",
    "#Resampling the dataframe under time.\n",
    "df.set_index('time').resample('5min').count()\n",
    "#Marking the dataframe with additional group key columns.\n",
    "df2 = pd.DataFrame({'time': times.repeat(3),\n",
    "                    'key': np.tile(['a', 'b', 'c'], N),\n",
    "                    'value': np.arange(N * 3.)})\n",
    "#Displaying the first 7 indices.\n",
    "df2[:7]\n",
    "#Using TimeGrouper to resample each value of key.\n",
    "time_key = pd.Grouper(freq='5min')\n",
    "#Aggregating the dataframe indices with time_key and 'key'.\n",
    "resampled = (df2.set_index('time')\n",
    "             .groupby(['key', time_key])\n",
    "             .sum())\n",
    "#Displaying resampled.\n",
    "resampled\n",
    "#Resetting the index.\n",
    "resampled.reset_index()"
   ]
  },
  {
   "cell_type": "code",
   "execution_count": null,
   "metadata": {},
   "outputs": [],
   "source": []
  }
 ],
 "metadata": {
  "kernelspec": {
   "display_name": "Python 3 (ipykernel)",
   "language": "python",
   "name": "python3"
  },
  "language_info": {
   "codemirror_mode": {
    "name": "ipython",
    "version": 3
   },
   "file_extension": ".py",
   "mimetype": "text/x-python",
   "name": "python",
   "nbconvert_exporter": "python",
   "pygments_lexer": "ipython3",
   "version": "3.9.7"
  }
 },
 "nbformat": 4,
 "nbformat_minor": 2
}
