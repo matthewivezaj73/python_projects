{
 "cells": [
  {
   "cell_type": "markdown",
   "metadata": {},
   "source": [
    "# IT545 - Programming for Data Analysis\n",
    "## Comprehensive Assignment 1"
   ]
  },
  {
   "cell_type": "markdown",
   "metadata": {},
   "source": [
    "### Problem 1 \n",
    "Type out the code in the cell below to print out your name, course # and assignment. \n",
    "#### For example: \n",
    "Chris Heiden<br>\n",
    "IT545 Programming for Data Analysis<br>\n",
    "Comprehensive Assignment 1<br>"
   ]
  },
  {
   "cell_type": "code",
   "execution_count": 1,
   "metadata": {},
   "outputs": [
    {
     "name": "stdout",
     "output_type": "stream",
     "text": [
      "Matthew Ivezaj\n",
      "IT545 Programming for Data Analysis\n",
      "Comprehensive assignment 1\n"
     ]
    }
   ],
   "source": [
    "#Insert your code here along with the execution of it.\n",
    "name = \"Matthew Ivezaj\"\n",
    "course_number = \"IT545 Programming for Data Analysis\" \n",
    "assignment = \"Comprehensive assignment 1\"\n",
    "#Putting each string in a list.\n",
    "my_output = [name, course_number, assignment]\n",
    "#Using a for loop to print each item in the list.\n",
    "for line in my_output:\n",
    "    print(line)"
   ]
  },
  {
   "cell_type": "markdown",
   "metadata": {},
   "source": [
    "### Problem 2\n",
    "In this code, you will demonstrate a few things. You will have a simple if statement that prints to display a message if the if statement is successfully executed. \n",
    "#### Example: \n",
    "if 5 > 2: \n",
    "    print(\"Five is greater than two!\")\n",
    "Now, write the code that will check if 3 is less than 8 and print to the display a message that summarizes up what you will see. "
   ]
  },
  {
   "cell_type": "code",
   "execution_count": 2,
   "metadata": {},
   "outputs": [
    {
     "name": "stdout",
     "output_type": "stream",
     "text": [
      "The test is successful!\n"
     ]
    }
   ],
   "source": [
    "#Insert your code here along with the execution of it.\n",
    "if 0 < 10:\n",
    "    print(\"The test is successful!\")\n",
    "else:\n",
    "    print(\"The test is not successful!\")"
   ]
  },
  {
   "cell_type": "code",
   "execution_count": null,
   "metadata": {},
   "outputs": [],
   "source": []
  },
  {
   "cell_type": "markdown",
   "metadata": {},
   "source": [
    "### Problem 3\n",
    "In this problem, you will demonstrate your understanding of variables and printing them to the display.\n",
    "#### Example:\n",
    "This following code sets the variable x = 5 and y = \"John\". 5 is a number where \"John\" is a string.<br>\n",
    "x = 5<br>\n",
    "y = \"John\"<br>\n",
    "print(x)<br>\n",
    "print(y)<br>\n",
    "Now, you need to set two variables - a and b - to the values of \"Spartacus\" and 22.5. Then display them. <br>\n"
   ]
  },
  {
   "cell_type": "code",
   "execution_count": 3,
   "metadata": {},
   "outputs": [
    {
     "name": "stdout",
     "output_type": "stream",
     "text": [
      "Spartacus\n",
      "22.5\n"
     ]
    }
   ],
   "source": [
    "#Insert your code here along with the execution of it.\n",
    "variable1 = \"Spartacus\"\n",
    "variable2 = 22.5\n",
    "#Printing each variable.\n",
    "print(variable1)\n",
    "print(variable2)"
   ]
  },
  {
   "cell_type": "markdown",
   "metadata": {},
   "source": [
    "### Problem 4\n",
    "In this problem, please demonstrate the addition of two declared variables. Let x be 22 and y be 78. Add these two variables together and print the addition to the screen. "
   ]
  },
  {
   "cell_type": "code",
   "execution_count": 4,
   "metadata": {},
   "outputs": [
    {
     "name": "stdout",
     "output_type": "stream",
     "text": [
      "100\n"
     ]
    }
   ],
   "source": [
    "#Insert your code here along with the execution of it.\n",
    "x = 22\n",
    "y = 78\n",
    "#Printing the sum of the variables.\n",
    "print(x+y)"
   ]
  },
  {
   "cell_type": "markdown",
   "metadata": {},
   "source": [
    "### Problem 5\n",
    "In this problem, you will create two variables and add them. One variable is x with a value of \"John is:\" and the other variable is y with a value of 25. Create the code that will print to display \"John is: 25 years old.\""
   ]
  },
  {
   "cell_type": "code",
   "execution_count": 5,
   "metadata": {},
   "outputs": [
    {
     "name": "stdout",
     "output_type": "stream",
     "text": [
      "John is: 25 years old.\n"
     ]
    }
   ],
   "source": [
    "#Insert your code here along with the execution of it.\n",
    "x = \"John is:\"\n",
    "y = 25\n",
    "#Creating a formatted string and printing it.\n",
    "print(f\"{x} {y} years old.\")"
   ]
  },
  {
   "cell_type": "markdown",
   "metadata": {},
   "source": [
    "### Problem 6\n",
    "You are going to write come code to demonstrate the order of operations / precedence (from mathematics). If you recall, the memory device to remember this - PEMDAS (Please Excuse My Dear Aunt Sally).<br>\n",
    "P - Parenthesis<br>\n",
    "E - Exponents<br>\n",
    "M - Multiplication<br>\n",
    "D - Division<br>\n",
    "A - Addition<br>\n",
    "S - Subtraction<br>\n",
    "I want to subtract 4 from 10 and then square it. Write the code to do this. "
   ]
  },
  {
   "cell_type": "code",
   "execution_count": 9,
   "metadata": {},
   "outputs": [
    {
     "data": {
      "text/plain": [
       "36"
      ]
     },
     "execution_count": 9,
     "metadata": {},
     "output_type": "execute_result"
    }
   ],
   "source": [
    "#Insert your code here along with the execution of it.\n",
    "\n",
    "#Squaring the difference between the two numbers.\n",
    "(10 - 4) ** 2"
   ]
  },
  {
   "cell_type": "markdown",
   "metadata": {},
   "source": [
    "### Problem 7\n",
    "Create a list named thisList which contains the following string values - apple, pear, strawberry, mango and kiwi. Also, print this list to the display. "
   ]
  },
  {
   "cell_type": "code",
   "execution_count": 10,
   "metadata": {},
   "outputs": [
    {
     "name": "stdout",
     "output_type": "stream",
     "text": [
      "apple\n",
      "pear\n",
      "strawberry\n",
      "mango\n",
      "kiwi\n"
     ]
    }
   ],
   "source": [
    "#Insert your code here along with the execution of it.\n",
    "theList = ['apple', 'pear', 'strawberry', 'mango', 'kiwi']\n",
    "#Printing each item from the list.\n",
    "for listitem in theList:\n",
    "    print(listitem)"
   ]
  },
  {
   "cell_type": "markdown",
   "metadata": {},
   "source": [
    "### Problem 8\n",
    "Now, take the list from Problem 7 and display the first, third and fifth item from the list in separate lines. "
   ]
  },
  {
   "cell_type": "code",
   "execution_count": 6,
   "metadata": {},
   "outputs": [
    {
     "name": "stdout",
     "output_type": "stream",
     "text": [
      "apple\n",
      "strawberry\n",
      "kiwi\n"
     ]
    }
   ],
   "source": [
    "#Insert your code here along with the execution of it.\n",
    "theList = ['apple', 'pear', 'strawberry', 'mango', 'kiwi']\n",
    "#Creating a new list with the specified items in it.\n",
    "new_list = [theList[0], theList[2], theList[4]]\n",
    "#Printing each listitem in that new list.\n",
    "for listItem in new_list:\n",
    "    print(listItem)"
   ]
  },
  {
   "cell_type": "markdown",
   "metadata": {},
   "source": [
    "### Problem 9\n",
    "In this problem, we are going to change an item value in a list. \n",
    "#### Example\n",
    "thisList2 = [\"pie\", \"cake\", \"icecream\"]<br>\n",
    "print(thisList2)<br>\n",
    "thisList2[1] = \"brownies\"<br>\n",
    "print(thisList2)<br>\n",
    "<ol>\n",
    "<li>Now, create a new list called thisList3 with the following values: box, javelin, phone, mouse.</li>\n",
    "<li>Print out this list.</li>\n",
    "<li>Next, change the first and fourth item values to discus and cat, respectively.</li> \n",
    "<li>Print out the list to show the new values.</li>\n",
    "</ol>"
   ]
  },
  {
   "cell_type": "code",
   "execution_count": 18,
   "metadata": {
    "collapsed": true
   },
   "outputs": [
    {
     "name": "stdout",
     "output_type": "stream",
     "text": [
      "box\n",
      "javelin\n",
      "phone\n",
      "mouse\n",
      "\n",
      "discus\n",
      "javelin\n",
      "phone\n",
      "cat\n"
     ]
    }
   ],
   "source": [
    "#Insert your code here along with the execution of it.\n",
    "#Creating a list of items.\n",
    "thisList3 = ['box', 'javelin', 'phone', 'mouse']\n",
    "#Printing the list of items.\n",
    "for listitem in thisList3:\n",
    "    print(listitem)\n",
    "#Removing two items.\n",
    "thisList3.remove('box')\n",
    "thisList3.remove('mouse')\n",
    "#Adding two items.\n",
    "thisList3.insert(0,'discus')\n",
    "thisList3.insert(3,'cat')\n",
    "#Adding a blank line.\n",
    "print(\"\")\n",
    "#Printing each item in the new list.\n",
    "for item in thisList3:\n",
    "    print(item)\n"
   ]
  },
  {
   "cell_type": "markdown",
   "metadata": {},
   "source": [
    "### Problem 10\n",
    "In this problem, we are going to loop through a list with a for loop and print them values to the display.<br>\n",
    "#### Example\n",
    "thisList4 = [\"bow\",\"arrow\",\"quiver\"]<br>\n",
    "for x in thisList4:<br>\n",
    "&nbsp;&nbsp;&nbsp;&nbsp;print(x)<br>\n",
    "Now, create a new list named ProblemTenTestList with the values: kroger, aldi, walmart, meijer. Now, create a for loop that will loop through all values and print them. "
   ]
  },
  {
   "cell_type": "code",
   "execution_count": 19,
   "metadata": {},
   "outputs": [
    {
     "name": "stdout",
     "output_type": "stream",
     "text": [
      "kroger\n",
      "aldi\n",
      "walmart\n",
      "meijer\n"
     ]
    }
   ],
   "source": [
    "#Insert your code here along with the execution of it.\n",
    "\n",
    "#Creating the list specified above.\n",
    "ProblemTenTestList = ['kroger', 'aldi', 'walmart', 'meijer']\n",
    "#Calling a for loop to print each value.\n",
    "for problem in ProblemTenTestList:\n",
    "    print(problem)"
   ]
  },
  {
   "cell_type": "markdown",
   "metadata": {},
   "source": [
    "### Problem 11\n",
    "In this problem, you are going to check to see if a specified item exists in a list. This uses the \"in\" keyword.<br>\n",
    "#### Example\n",
    "Check to see if arrow exists in the list.<br>\n",
    "thisList5 = [\"bow\",\"arrow\",\"quiver\"]<br>\n",
    "if \"arrow\" in thisList5:<br>\n",
    "&nbsp;&nbsp;&nbsp;&nbsp;print(\"Yes, 'arrow' exists in thisList5\")<br>\n",
    "Now, create a list called ProblemElevenTestList with the following values: kroger, aldi, walmart, and franks. Now, check to see if the value bobs exists in this. Now, you will have to employ another item - the else if or elif. "
   ]
  },
  {
   "cell_type": "code",
   "execution_count": 20,
   "metadata": {},
   "outputs": [
    {
     "name": "stdout",
     "output_type": "stream",
     "text": [
      "We can't seem to find the item.\n"
     ]
    }
   ],
   "source": [
    "#Insert your code here along with the execution of it.\n",
    "\n",
    "# Setting up the list.\n",
    "ProblemElevenTestList = ['kroger', 'aldi', 'walmart', 'franks']\n",
    "#Checking to see if arrow exists and printing out a message if it is.\n",
    "if \"bobs\" in ProblemElevenTestList:\n",
    "    print(\"The item exists in the list!\")\n",
    "#Checking to see if \"bobs\" does not exist in the \n",
    "# list and printing out a message if it isn't.\n",
    "elif not \"bobs\" in ProblemElevenTestList:\n",
    "    print(\"We can't seem to find the item.\")\n",
    "#Printing out a message\n",
    "else:\n",
    "    print(\"Sorry, I can't complete your request at the moment.\")"
   ]
  },
  {
   "cell_type": "markdown",
   "metadata": {},
   "source": [
    "### Problem 12\n",
    "In this example, you will code a tuple (which is not changeable).<br>\n",
    "Create a tuple named ProblemTwelveTuple with the values apple, cherry, banana. Print it to the display. "
   ]
  },
  {
   "cell_type": "code",
   "execution_count": 2,
   "metadata": {},
   "outputs": [
    {
     "name": "stdout",
     "output_type": "stream",
     "text": [
      "apple\n",
      "cherry\n",
      "banana\n"
     ]
    }
   ],
   "source": [
    "#Insert your code here along with the execution of it.\n",
    "#Creating a tuple named ProblemTwelveTuple.\n",
    "ProblemTwelveTuple = ('apple', 'cherry', 'banana')\n",
    "#Printing out each item in the tuple.\n",
    "for tup in ProblemTwelveTuple:\n",
    "    print(tup)"
   ]
  },
  {
   "cell_type": "markdown",
   "metadata": {},
   "source": [
    "### Problem 13\n",
    "In this example, you will code a tuple (which is not changeable).<br>\n",
    "Create a tuple named ProblemThirteenTuple with the values apple, cherry, banana, and salad. Look through it with a for loop and then print it to the display. "
   ]
  },
  {
   "cell_type": "code",
   "execution_count": 1,
   "metadata": {},
   "outputs": [
    {
     "name": "stdout",
     "output_type": "stream",
     "text": [
      "apple\n",
      "cherry\n",
      "banana\n",
      "salad\n"
     ]
    }
   ],
   "source": [
    "#Insert your code here along with the execution of it.\n",
    "#Creating a tuple of the items required.\n",
    "ProblemThirteenTuple = ('apple', 'cherry', 'banana', 'salad')\n",
    "#Printing out each item in the tuple.\n",
    "for tup in ProblemThirteenTuple:\n",
    "    print(tup)"
   ]
  },
  {
   "cell_type": "markdown",
   "metadata": {},
   "source": [
    "### Problem 14\n",
    "Now, as a repeat of the list example, please create a tuple with the following values (named ProblemFourteenTuple): box, echo, fox, charlie, delta. Check to see if the value charlie exists in the tuple. "
   ]
  },
  {
   "cell_type": "code",
   "execution_count": 4,
   "metadata": {},
   "outputs": [
    {
     "name": "stdout",
     "output_type": "stream",
     "text": [
      "Charlie is inside of our tuple.\n"
     ]
    }
   ],
   "source": [
    "#Insert your code here along with the execution of it.\n",
    "#Creating a tuple of the items required.\n",
    "ProblemFourteenTuple = ('box', 'echo', 'fox', 'charlie', 'delta')\n",
    "#Checking to see if Charlie is inside of the \n",
    "#tuple and printing out a message if it is..\n",
    "if 'charlie' in ProblemFourteenTuple:\n",
    "    print(\"Charlie is inside of our tuple.\")\n",
    "#Printing out a message if Charlie is not in the tuple.\n",
    "else:\n",
    "    print(\"Charlie is not inside of our tuple.\")"
   ]
  },
  {
   "cell_type": "markdown",
   "metadata": {},
   "source": [
    "### Problem 15\n",
    "In this problem, you will demonstrate how many items are in the tuple.<br>\n",
    "Create a tuple named ProblemFifteenTuple with the values: box, echo, fox, charlie, delta, beta, gamma. Print to the display the number of items in the ProblemFifteenTuple tuple."
   ]
  },
  {
   "cell_type": "code",
   "execution_count": 9,
   "metadata": {},
   "outputs": [
    {
     "name": "stdout",
     "output_type": "stream",
     "text": [
      "7\n"
     ]
    }
   ],
   "source": [
    "#Insert your code here along with the execution of it.\n",
    "#Creating a tuple.\n",
    "ProblemFifteenTuple = ('box', 'echo', 'fox', 'charlie', 'delta', 'beta', 'gamma')\n",
    "#Counting the amount of items inside of the tuple and printing the result.\n",
    "print(len(ProblemFifteenTuple))\n"
   ]
  },
  {
   "cell_type": "code",
   "execution_count": null,
   "metadata": {},
   "outputs": [],
   "source": []
  }
 ],
 "metadata": {
  "kernelspec": {
   "display_name": "Python 3 (ipykernel)",
   "language": "python",
   "name": "python3"
  },
  "language_info": {
   "codemirror_mode": {
    "name": "ipython",
    "version": 3
   },
   "file_extension": ".py",
   "mimetype": "text/x-python",
   "name": "python",
   "nbconvert_exporter": "python",
   "pygments_lexer": "ipython3",
   "version": "3.9.7"
  }
 },
 "nbformat": 4,
 "nbformat_minor": 2
}
