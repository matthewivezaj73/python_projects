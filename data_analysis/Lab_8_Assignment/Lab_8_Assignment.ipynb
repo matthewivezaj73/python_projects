{
 "cells": [
  {
   "cell_type": "markdown",
   "metadata": {},
   "source": [
    "# Lab Assignment 8"
   ]
  },
  {
   "cell_type": "markdown",
   "metadata": {},
   "source": [
    "## Chapter 13 Introduction to Modeling Libraries in Python"
   ]
  },
  {
   "cell_type": "code",
   "execution_count": null,
   "metadata": {},
   "outputs": [],
   "source": [
    "# Import Series and DataFrame into local namespace\n",
    "import numpy as np\n",
    "import pandas as pd\n",
    "from pandas import Series, DataFrame\n",
    "# Import Matplotlib\n",
    "import matplotlib.pyplot as plt\n",
    "# Import datetime\n",
    "from datetime import datetime"
   ]
  },
  {
   "cell_type": "markdown",
   "metadata": {},
   "source": [
    "## Problem 1"
   ]
  },
  {
   "cell_type": "markdown",
   "metadata": {},
   "source": [
    "#### In this problem, you  will type out the input lines In [12] thorugh In [23] on pages 390-391 of the textbook. "
   ]
  },
  {
   "cell_type": "code",
   "execution_count": null,
   "metadata": {},
   "outputs": [],
   "source": [
    "# Insert commenting and code in this cell.\n",
    "#Importing libraries.\n",
    "import pandas as pd\n",
    "import numpy as np\n",
    "#Creating a dataframe.\n",
    "data = pd.DataFrame({\n",
    "    'x0': [1, 2, 3, 4, 5],\n",
    "    'x1': [0.01, -0.01, 0.25, -4.1, 0.],\n",
    "    'y': [-1.5, 0., 3.6, 1.3, -2.]})\n",
    "#Displaying the dataframe.\n",
    "data\n",
    "#Displaying the columns in our dataframe.\n",
    "data.columns\n",
    "#Displaying the values in the dataframe.\n",
    "data.values\n",
    "#Passing a two dimensional ndarray with optional column names.\n",
    "df2 = pd.DataFrame(data.values, columns=['one', 'two', 'three'])\n",
    "#Displaying the dataframe.\n",
    "df2\n",
    "#Copying the contents of data and assigning it to a variable named df3.\n",
    "df3 = data.copy()\n",
    "#Creating a column within df3 and assigning several strings.\n",
    "df3['strings'] = ['a', 'b', 'c', 'd', 'e']\n",
    "#Displaying the contents of df3.\n",
    "df3\n",
    "#Displaying the values within df3.\n",
    "df3.values"
   ]
  },
  {
   "cell_type": "markdown",
   "metadata": {},
   "source": [
    "## Problem 2"
   ]
  },
  {
   "cell_type": "markdown",
   "metadata": {},
   "source": [
    "#### In this problem, you will type out the input lines In [24] - In [30] on pages 391-392 of the textbook. "
   ]
  },
  {
   "cell_type": "code",
   "execution_count": null,
   "metadata": {},
   "outputs": [],
   "source": [
    "# Insert commenting and code in this cell.\n",
    "#Creating a list of model columns.\n",
    "model_cols = ['x0', 'x1']\n",
    "#Using loc indexing with the values of model_cols.\n",
    "data.loc[:, model_cols].values\n",
    "#Adding a categories column to the dataframe.\n",
    "data['category'] = pd.Categorical(['a', 'b', 'a', 'a', 'b'],\n",
    "                                  categories=['a', 'b'])\n",
    "#Displaying the dataframe.\n",
    "data\n",
    "#replacing the category column with dummy values.\n",
    "dummies = pd.get_dummies(data.category, prefix='category')\n",
    "data_with_dummies = data.drop('category', axis=1).join(dummies)\n",
    "#Displaying the contents of data_with_dummies.\n",
    "data_with_dummies"
   ]
  },
  {
   "cell_type": "markdown",
   "metadata": {},
   "source": [
    "## Problem 3"
   ]
  },
  {
   "cell_type": "markdown",
   "metadata": {},
   "source": [
    "#### In this problem, you will type out the input lines In [31] - In [38] on pages 393-394 of the textbook."
   ]
  },
  {
   "cell_type": "code",
   "execution_count": null,
   "metadata": {},
   "outputs": [],
   "source": [
    "# Insert commenting and code in this cell.\n",
    "#Creating a dataframe\n",
    "data = pd.DataFrame({\n",
    "    'x0': [1, 2, 3, 4, 5],\n",
    "    'x1': [0.01, -0.01, 0.25, -4.1, 0.],\n",
    "    'y': [-1.5, 0., 3.6, 1.3, -2.]})\n",
    "#Displaying the contents of the dataframe.\n",
    "data\n",
    "#Importing a library.\n",
    "import patsy\n",
    "#Calling patsy.dmatrices function to take a formula string along with a dataset.\n",
    "y, X = patsy.dmatrices('y ~ x0 + x1', data)\n",
    "#Displaying the contents of the y matrix.\n",
    "y\n",
    "#Displaying the contents of the X matrix.\n",
    "X\n",
    "#Converting the matrix into an ndarray.\n",
    "np.asarray(y)\n",
    "#Converting the matrix into an ndarray.\n",
    "np.asarray(X)"
   ]
  },
  {
   "cell_type": "markdown",
   "metadata": {},
   "source": [
    "## Problem 4"
   ]
  },
  {
   "cell_type": "markdown",
   "metadata": {},
   "source": [
    "#### In this problem, you  will type out the input lines In [39] - In [43] on page 394 of the textbook."
   ]
  },
  {
   "cell_type": "code",
   "execution_count": null,
   "metadata": {},
   "outputs": [],
   "source": [
    "# Insert commenting and code in this cell.\n",
    "#suppressing the intercept by adding the term + 0\n",
    "patsy.dmatrices('y ~ x0 + x1 + 0', data)[1]\n",
    "#Passing the Patsy objects so they can be passed directly into algorithms like numpy.linalg.lstsq, to perform an ordinary least squares regression.\n",
    "coef, resid, _, _ = np.linalg.lstsq(X, y)\n",
    "#Displaying the contents of coef.\n",
    "coef\n",
    "#Creating a series and using squeeze to remove an axis of length 1.\n",
    "coef = pd.Series(coef.squeeze(), index=X.design_info.column_names)\n",
    "#Displaying the series.\n",
    "coef"
   ]
  },
  {
   "cell_type": "markdown",
   "metadata": {},
   "source": [
    "## Problem 5"
   ]
  },
  {
   "cell_type": "markdown",
   "metadata": {},
   "source": [
    "#### In this problem, you  will type out the input lines In [44] - In [52] on page 395-396 of the textbook."
   ]
  },
  {
   "cell_type": "code",
   "execution_count": null,
   "metadata": {},
   "outputs": [],
   "source": [
    "# Insert commenting and code in this cell.\n",
    "#Trying to find the functions in use that are included in the quotes.\n",
    "y, X = patsy.dmatrices('y ~ x0 + np.log(np.abs(x1) + 1)', data)\n",
    "#Displaying the X matrix.\n",
    "X\n",
    "#Creating a new dataframe.\n",
    "ew_data = pd.DataFrame({\n",
    "    'x0': [6, 7, 8, 9],\n",
    "    'x1': [3.1, -0.5, 0, 2.3],\n",
    "    'y': [1, 2, 3, 4]})\n",
    "#Applying a transormation to the data using saved information from the original dataset.\n",
    "new_X = patsy.build_design_matrices([X.design_info], new_data)\n",
    "#Displaying the contents of new_X.\n",
    "new_X\n",
    "#Trying to find the functions in use that are included in the quotes.\n",
    "y, X = patsy.dmatrices('y ~ I(x0 + x1)', data)\n",
    "#Displaying the contents of the X matrix.\n",
    "X"
   ]
  },
  {
   "cell_type": "markdown",
   "metadata": {},
   "source": [
    "## Problem 6"
   ]
  },
  {
   "cell_type": "markdown",
   "metadata": {},
   "source": [
    "#### In this problem, you  will type out the input lines In [53] - In [115] on page 396-407 of the textbook."
   ]
  },
  {
   "cell_type": "code",
   "execution_count": null,
   "metadata": {},
   "outputs": [],
   "source": [
    "# Insert commenting and code in this cell.\n",
    "#Creating a dataframe.\n",
    "data = pd.DataFrame({\n",
    "    'key1': ['a', 'a', 'b', 'b', 'a', 'b', 'a', 'b'],\n",
    "    'key2': [0, 1, 0, 1, 0, 1, 0, 0],\n",
    "    'v1': [1, 2, 3, 4, 5, 6, 7, 8],\n",
    "    'v2': [-1, 0, 2.5, -0.5, 4.0, -1.2, 0.2, -1.7]\n",
    "})\n",
    "#Creating matrices from the data.\n",
    "y, X = patsy.dmatrices('v2 ~ key1', data)\n",
    "#Displaying the X matrix.\n",
    "X\n",
    "#Omitting the intercept.\n",
    "y, X = patsy.dmatrices('v2 ~ key1 + 0', data)\n",
    "#Displaying the X matrix.\n",
    "X\n",
    "#Intercepting columns with the C function.\n",
    "y, X = patsy.dmatrices('v2 ~ C(key2)', data)\n",
    "#Displaying the X value.\n",
    "X\n",
    "#Putting multiple categorical values inside of a model.\n",
    "data['key2'] = data['key2'].map({0: 'zero', 1: 'one'})\n",
    "#Displaying the contents of the dataframe.\n",
    "data\n",
    "#Creating matrices from the data.\n",
    "y, X = patsy.dmatrices('v2 ~ key1 + key2', data)\n",
    "#Displaying the X matrix.\n",
    "X\n",
    "#Recreating matrices from the data with new values.\n",
    "y, X = patsy.dmatrices('v2 ~ key1 + key2 + key1:key2', data)\n",
    "#Displaying the X matrix.\n",
    "X"
   ]
  },
  {
   "cell_type": "code",
   "execution_count": 1,
   "metadata": {},
   "outputs": [
    {
     "ename": "NameError",
     "evalue": "name 'np' is not defined",
     "output_type": "error",
     "traceback": [
      "\u001b[1;31m---------------------------------------------------------------------------\u001b[0m",
      "\u001b[1;31mNameError\u001b[0m                                 Traceback (most recent call last)",
      "\u001b[1;32m~\\AppData\\Local\\Temp/ipykernel_8556/930298664.py\u001b[0m in \u001b[0;36m<module>\u001b[1;34m\u001b[0m\n\u001b[0;32m     10\u001b[0m     \u001b[1;32mreturn\u001b[0m \u001b[0mmean\u001b[0m \u001b[1;33m+\u001b[0m \u001b[0mnp\u001b[0m\u001b[1;33m.\u001b[0m\u001b[0msqrt\u001b[0m\u001b[1;33m(\u001b[0m\u001b[0mvariance\u001b[0m\u001b[1;33m)\u001b[0m \u001b[1;33m*\u001b[0m \u001b[0mnp\u001b[0m\u001b[1;33m.\u001b[0m\u001b[0mrandom\u001b[0m\u001b[1;33m.\u001b[0m\u001b[0mrandn\u001b[0m\u001b[1;33m(\u001b[0m\u001b[1;33m*\u001b[0m\u001b[0msize\u001b[0m\u001b[1;33m)\u001b[0m\u001b[1;33m\u001b[0m\u001b[1;33m\u001b[0m\u001b[0m\n\u001b[0;32m     11\u001b[0m \u001b[1;31m# For reproducibility\u001b[0m\u001b[1;33m\u001b[0m\u001b[1;33m\u001b[0m\u001b[0m\n\u001b[1;32m---> 12\u001b[1;33m \u001b[0mnp\u001b[0m\u001b[1;33m.\u001b[0m\u001b[0mrandom\u001b[0m\u001b[1;33m.\u001b[0m\u001b[0mseed\u001b[0m\u001b[1;33m(\u001b[0m\u001b[1;36m12345\u001b[0m\u001b[1;33m)\u001b[0m\u001b[1;33m\u001b[0m\u001b[1;33m\u001b[0m\u001b[0m\n\u001b[0m\u001b[0;32m     13\u001b[0m \u001b[1;31m#Creating a variable.\u001b[0m\u001b[1;33m\u001b[0m\u001b[1;33m\u001b[0m\u001b[0m\n\u001b[0;32m     14\u001b[0m \u001b[0mN\u001b[0m \u001b[1;33m=\u001b[0m \u001b[1;36m100\u001b[0m\u001b[1;33m\u001b[0m\u001b[1;33m\u001b[0m\u001b[0m\n",
      "\u001b[1;31mNameError\u001b[0m: name 'np' is not defined"
     ]
    }
   ],
   "source": [
    "#Impoting libraries.\n",
    "import statsmodels.api as sm\n",
    "import statsmodels.formula.api as smf\n",
    "#Defining a function.\n",
    "def dnorm(mean, variance, size=1):\n",
    "    #Checking if the passed value is an instance of size.\n",
    "    if isinstance(size, int):\n",
    "        size = size,\n",
    "        #Returning the product of the square root of the variance and a random size added to the mean.\n",
    "    return mean + np.sqrt(variance) * np.random.randn(*size)\n",
    "# For reproducibility\n",
    "np.random.seed(12345)\n",
    "#Creating a variable.\n",
    "N = 100\n",
    "#Translating slice objects to concatenation along the second axis.\n",
    "X = np.c_[dnorm(0, 0.4, size=N),\n",
    "          dnorm(0, 0.6, size=N),\n",
    "          dnorm(0, 0.2, size=N)]\n",
    "#Finding the density of a normal distribution.\n",
    "eps = dnorm(0, 0.1, size=N)\n",
    "#Creating a list.\n",
    "beta = [0.1, 0.3, 0.5]\n",
    "#Finding the product of two arrays.\n",
    "y = np.dot(X, beta) + eps\n"
   ]
  },
  {
   "cell_type": "code",
   "execution_count": null,
   "metadata": {},
   "outputs": [],
   "source": [
    "#Displaying the first 5 elements of the X indice.\n",
    "X[:5]\n",
    "#Displaying the first 5 elements of the y indice.\n",
    "y[:5]\n",
    "#Adding a column to the existing matrix.\n",
    "X_model = sm.add_constant(X)\n",
    "#Displaying the first 5 lists.\n",
    "X_model[:5]\n",
    "#sm.OLS class can fit an ordinary least squares linear regression\n",
    "model = sm.OLS(y, X)\n",
    "#returns a regression results object containing estimated model parameters and other diagnostics.\n",
    "results = model.fit()\n",
    "#Displaying the parameters.\n",
    "results.params\n",
    "#Printing the summary.\n",
    "print(results.summary())\n",
    "#Creating a dataframe.\n",
    "data = pd.DataFrame(X, columns=['col0', 'col1', 'col2'])\n",
    "#Assigning the y matrix to the y column in the dataframe.\n",
    "data['y'] = y\n",
    "#Displaying the first 5 values.\n",
    "data[:5]\n",
    "#Using statsmodels formula API and Patsy to format strings.\n",
    "results = smf.ols('y ~ col0 + col1 + col2', data=data).fit()\n",
    "#Displaying params.\n",
    "results.params\n",
    "#Displaying t-values\n",
    "results.tvalues\n",
    "#Computing predicted values given the estimated model parameters.\n",
    "results.predict(data[:5])"
   ]
  },
  {
   "cell_type": "code",
   "execution_count": null,
   "metadata": {},
   "outputs": [],
   "source": [
    "#Creating a variable.\n",
    "init_x = 4\n",
    "#Importing a package.\n",
    "import random\n",
    "#Creating a list from a set of values.\n",
    "values = [init_x, init_x]\n",
    "#Creating a variable.\n",
    "N = 1000\n",
    "#Creating more variables.\n",
    "b0 = 0.8\n",
    "b1 = -0.4\n",
    "#Creating a variable by using the dnorm function on a couple values and a variable.\n",
    "noise = dnorm(0, 0.1, N)\n",
    "#Creating a for loop.\n",
    "for i in range(N):\n",
    "    new_x = values[-1] * b0 + values[-2] * b1 + noise[i]\n",
    "    #Appending values to the list.\n",
    "    values.append(new_x)"
   ]
  },
  {
   "cell_type": "code",
   "execution_count": 2,
   "metadata": {},
   "outputs": [
    {
     "ename": "NameError",
     "evalue": "name 'values' is not defined",
     "output_type": "error",
     "traceback": [
      "\u001b[1;31m---------------------------------------------------------------------------\u001b[0m",
      "\u001b[1;31mNameError\u001b[0m                                 Traceback (most recent call last)",
      "\u001b[1;32m~\\AppData\\Local\\Temp/ipykernel_8556/2483828349.py\u001b[0m in \u001b[0;36m<module>\u001b[1;34m\u001b[0m\n\u001b[0;32m      2\u001b[0m \u001b[0mMAXLAGS\u001b[0m \u001b[1;33m=\u001b[0m \u001b[1;36m5\u001b[0m\u001b[1;33m\u001b[0m\u001b[1;33m\u001b[0m\u001b[0m\n\u001b[0;32m      3\u001b[0m \u001b[1;31m#Creating an AR model.\u001b[0m\u001b[1;33m\u001b[0m\u001b[1;33m\u001b[0m\u001b[0m\n\u001b[1;32m----> 4\u001b[1;33m \u001b[0mmodel\u001b[0m \u001b[1;33m=\u001b[0m \u001b[0msm\u001b[0m\u001b[1;33m.\u001b[0m\u001b[0mtsa\u001b[0m\u001b[1;33m.\u001b[0m\u001b[0mAR\u001b[0m\u001b[1;33m(\u001b[0m\u001b[0mvalues\u001b[0m\u001b[1;33m)\u001b[0m\u001b[1;33m\u001b[0m\u001b[1;33m\u001b[0m\u001b[0m\n\u001b[0m\u001b[0;32m      5\u001b[0m \u001b[1;31m#Fitting the AR model.\u001b[0m\u001b[1;33m\u001b[0m\u001b[1;33m\u001b[0m\u001b[0m\n\u001b[0;32m      6\u001b[0m \u001b[0mresults\u001b[0m \u001b[1;33m=\u001b[0m \u001b[0mmodel\u001b[0m\u001b[1;33m.\u001b[0m\u001b[0mfit\u001b[0m\u001b[1;33m(\u001b[0m\u001b[0mMAXLAGS\u001b[0m\u001b[1;33m)\u001b[0m\u001b[1;33m\u001b[0m\u001b[1;33m\u001b[0m\u001b[0m\n",
      "\u001b[1;31mNameError\u001b[0m: name 'values' is not defined"
     ]
    }
   ],
   "source": [
    "#Creating a variable\n",
    "MAXLAGS = 5\n",
    "#Creating an AR model.\n",
    "model = sm.tsa.AR(values)\n",
    "#Fitting the AR model.\n",
    "results = model.fit(MAXLAGS)\n",
    "#Displaying results.params.\n",
    "results.params"
   ]
  },
  {
   "cell_type": "code",
   "execution_count": null,
   "metadata": {},
   "outputs": [],
   "source": [
    "#Reading the csv files.\n",
    "train = pd.read_csv('datasets/titanic/train.csv')\n",
    "test = pd.read_csv('datasets/titanic/test.csv')\n",
    "#Displaying the first 4 rows.\n",
    "train[:4]\n",
    "#Checking if there are missing data fields.\n",
    "train.isnull().sum()\n",
    "test.isnull().sum()\n",
    "#Finding the median of the age column.\n",
    "impute_value = train['Age'].median()\n",
    "#Filling the na values with the median.\n",
    "train['Age'] = train['Age'].fillna(impute_value)\n",
    "test['Age'] = test['Age'].fillna(impute_value)\n",
    "#Specifying our models.\n",
    "train['IsFemale'] = (train['Sex'] == 'female').astype(int)\n",
    "test['IsFemale'] = (test['Sex'] == 'female').astype(int)\n",
    "#Creating a list of model variables.\n",
    "predictors = ['Pclass', 'IsFemale', 'Age']\n",
    "#Creating a variable for each model.\n",
    "X_train = train[predictors].values\n",
    "X_test = test[predictors].values\n",
    "y_train = train['Survived'].values\n",
    "#Displaying the first 5 values of X_train.\n",
    "X_train[:5]\n",
    "#Displaying the first 5 values of y_train.\n",
    "y_train[:5]\n",
    "#Importing a library.\n",
    "from sklearn.linear_model import LogisticRegression\n",
    "#Creating an instance of a model.\n",
    "model = LogisticRegression()\n",
    "#Using model.fit function on the two variables.\n",
    "model.fit(X_train, y_train)\n",
    "#Using model.predict in order to make predictions.\n",
    "y_predict = model.predict(X_test)\n",
    "#Displaying the first 10 values.\n",
    "y_predict[:10]\n"
   ]
  },
  {
   "cell_type": "code",
   "execution_count": null,
   "metadata": {},
   "outputs": [],
   "source": [
    "#Importing a package from a library.\n",
    "from sklearn.linear_model import LogisticRegressionCV\n",
    "#Searching the model.\n",
    "model_cv = LogisticRegressionCV(10)\n",
    "#Fitting the data.\n",
    "model_cv.fit(X_train, y_train)\n"
   ]
  },
  {
   "cell_type": "code",
   "execution_count": null,
   "metadata": {},
   "outputs": [],
   "source": [
    "#Importing a library.\n",
    "from sklearn.model_selection import cross_val_score\n",
    "#Using the method LogisticsRegression to search the data.\n",
    "model = LogisticRegression(C=10)\n",
    "#handling the data splitting process.\n",
    "scores = cross_val_score(model, X_train, y_train, cv=4)"
   ]
  }
 ],
 "metadata": {
  "kernelspec": {
   "display_name": "Python 3 (ipykernel)",
   "language": "python",
   "name": "python3"
  },
  "language_info": {
   "codemirror_mode": {
    "name": "ipython",
    "version": 3
   },
   "file_extension": ".py",
   "mimetype": "text/x-python",
   "name": "python",
   "nbconvert_exporter": "python",
   "pygments_lexer": "ipython3",
   "version": "3.9.7"
  }
 },
 "nbformat": 4,
 "nbformat_minor": 2
}
