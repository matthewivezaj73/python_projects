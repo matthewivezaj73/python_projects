{
 "cells": [
  {
   "cell_type": "markdown",
   "metadata": {},
   "source": [
    "# Lab Assignment 6"
   ]
  },
  {
   "cell_type": "markdown",
   "metadata": {},
   "source": [
    "## Chapter 11 Time Series"
   ]
  },
  {
   "cell_type": "code",
   "execution_count": 1,
   "metadata": {},
   "outputs": [],
   "source": [
    "# Import Series and DataFrame into local namespace\n",
    "import numpy as np\n",
    "import pandas as pd\n",
    "from pandas import Series, DataFrame\n",
    "# Import Matplotlib\n",
    "import matplotlib.pyplot as plt\n",
    "# Import datetime\n",
    "from datetime import datetime"
   ]
  },
  {
   "cell_type": "markdown",
   "metadata": {},
   "source": [
    "## Problem 1"
   ]
  },
  {
   "cell_type": "markdown",
   "metadata": {},
   "source": [
    "#### In this problem, you  will type out the input lines In [12] thorugh In [23] on pages 324-325 of the textbook. "
   ]
  },
  {
   "cell_type": "code",
   "execution_count": 2,
   "metadata": {},
   "outputs": [
    {
     "data": {
      "text/plain": [
       "datetime.datetime(2010, 12, 14, 0, 0)"
      ]
     },
     "execution_count": 2,
     "metadata": {},
     "output_type": "execute_result"
    }
   ],
   "source": [
    "# Insert commenting and code in this cell.\n",
    "#Importing datetime from datetime.\n",
    "from datetime import datetime\n",
    "#Creating a time object.\n",
    "now = datetime.now()\n",
    "#Calling the object to display it to the screen.\n",
    "now\n",
    "#Displaying the year, month, and day in numerical format.\n",
    "now.year, now.month, now.day\n",
    "#Creating a variable to represent the temporal difference.\n",
    "delta = datetime(2011, 1, 7) - datetime(2008, 6, 24, 8, 15)\n",
    "#Displaying delta\n",
    "delta\n",
    "#Displaying the days value in delta.\n",
    "delta.days\n",
    "#Displaying the seconds value in delta.\n",
    "delta.seconds\n",
    "#Importing the timedelta libary.\n",
    "from datetime import timedelta\n",
    "#Creating a datetime object.\n",
    "start = datetime(2011, 1, 7)\n",
    "#Adding 12 to the date and 2 blank value to fill the entirety of delta.\n",
    "start + timedelta(12)\n",
    "#Multiplying the new timedelta by 2 and subtracting it from start.\n",
    "start - 2 * timedelta(12)"
   ]
  },
  {
   "cell_type": "markdown",
   "metadata": {},
   "source": [
    "## Problem 2"
   ]
  },
  {
   "cell_type": "markdown",
   "metadata": {},
   "source": [
    "#### In this problem, you wil convert between a string and datetime. Complete In [24] - In [26] on page 325 of the textbook. "
   ]
  },
  {
   "cell_type": "code",
   "execution_count": 3,
   "metadata": {},
   "outputs": [
    {
     "data": {
      "text/plain": [
       "'2011-01-03'"
      ]
     },
     "execution_count": 3,
     "metadata": {},
     "output_type": "execute_result"
    }
   ],
   "source": [
    "# Insert commenting and code in this cell.\n",
    "#Creating a datetime object called stamp in order to convert between a string and datetime.\n",
    "stamp = datetime(2011, 1, 3)\n",
    "#Typecasting the stamp datetime object into a string.\n",
    "str(stamp)\n",
    "#Formatting the str object so it looks more like a time object.\n",
    "stamp.strftime('%Y-%m-%d')"
   ]
  },
  {
   "cell_type": "markdown",
   "metadata": {},
   "source": [
    "## Problem 3"
   ]
  },
  {
   "cell_type": "markdown",
   "metadata": {},
   "source": [
    "#### In this problem, you complete In [41] - In [49] on pages 328-329 of the textbook."
   ]
  },
  {
   "cell_type": "code",
   "execution_count": 4,
   "metadata": {},
   "outputs": [
    {
     "data": {
      "text/plain": [
       "Timestamp('2011-01-02 00:00:00')"
      ]
     },
     "execution_count": 4,
     "metadata": {},
     "output_type": "execute_result"
    }
   ],
   "source": [
    "# Insert commenting and code in this cell.\n",
    "#Importing datetime.\n",
    "from datetime import datetime\n",
    "#Creating a list of tuples and assigning it to a variable called dates.\n",
    "dates = [datetime(2011, 1, 2), datetime(2011, 1, 5),\n",
    "         datetime(2011, 1, 7), datetime(2011, 1, 8),\n",
    "         datetime(2011, 1, 10), datetime(2011, 1, 12)]\n",
    "#Creating a series of random values.\n",
    "ts = pd.Series(np.random.randn(6), index=dates)\n",
    "#Displaying the series.\n",
    "ts\n",
    "#Displaying the index of ts.\n",
    "ts.index\n",
    "#Performing arithmetic operations over differently indexed time series.\n",
    "ts + ts[::2]\n",
    "#Performing the dtype operation on the ts index to see what data type it is.\n",
    "ts.index.dtype\n",
    "#Finding the first element in the time series and assigning it to a variable.\n",
    "stamp = ts.index[0]\n",
    "#Displaying the contents of the variable.\n",
    "stamp"
   ]
  },
  {
   "cell_type": "markdown",
   "metadata": {},
   "source": [
    "## Problem 4"
   ]
  },
  {
   "cell_type": "markdown",
   "metadata": {},
   "source": [
    "#### In this problem, you will work with time series with duplicate values. Complete the In [65] - In [73] on pages 332-333 of the textbook."
   ]
  },
  {
   "cell_type": "code",
   "execution_count": 5,
   "metadata": {},
   "outputs": [
    {
     "data": {
      "text/plain": [
       "2000-01-01    1\n",
       "2000-01-02    3\n",
       "2000-01-03    1\n",
       "dtype: int64"
      ]
     },
     "execution_count": 5,
     "metadata": {},
     "output_type": "execute_result"
    }
   ],
   "source": [
    "# Insert commenting and code in this cell.\n",
    "#Creating an index with duplicate data.\n",
    "dates = pd.DatetimeIndex(['1/1/2000', '1/2/2000', '1/2/2000',\n",
    "                          '1/2/2000', '1/3/2000'])\n",
    "#Creating a time series.\n",
    "dup_ts = pd.Series(np.arange(5), index=dates)\n",
    "#Displaying the contents of dup_ts.\n",
    "dup_ts\n",
    "#Checking if the index is unique.\n",
    "dup_ts.index.is_unique\n",
    "#Checking the index value of 1/3/2000.\n",
    "dup_ts['1/3/2000']\n",
    "#Grouping the data.\n",
    "grouped = dup_ts.groupby(level=0)\n",
    "#Finding the mean of the grouped data.\n",
    "grouped.mean()\n",
    "#Finding the count of the data.\n",
    "grouped.count()"
   ]
  },
  {
   "cell_type": "markdown",
   "metadata": {},
   "source": [
    "## Problem 5"
   ]
  },
  {
   "cell_type": "markdown",
   "metadata": {},
   "source": [
    "#### In this problem, you will work on generating date ranges. Complete In [76] - In [82] on pages 334-336 of the textbook."
   ]
  },
  {
   "cell_type": "code",
   "execution_count": 6,
   "metadata": {},
   "outputs": [
    {
     "data": {
      "text/plain": [
       "DatetimeIndex(['2012-05-02', '2012-05-03', '2012-05-04', '2012-05-05',\n",
       "               '2012-05-06'],\n",
       "              dtype='datetime64[ns]', freq='D')"
      ]
     },
     "execution_count": 6,
     "metadata": {},
     "output_type": "execute_result"
    }
   ],
   "source": [
    "# Insert commenting and code in this cell.\n",
    "#Generating a date time index.\n",
    "index = pd.date_range('2012-04-01', '2012-06-01')\n",
    "#Displaying the index to the screen.\n",
    "index\n",
    "#Generating daily time stamps.\n",
    "pd.date_range(start='2012-04-01', periods=20)\n",
    "#Passing a date for the daily time stamps to end at.\n",
    "pd.date_range(end='2012-06-01', periods=20)\n",
    "#Creating a time index that has the last business day of each month.\n",
    "pd.date_range('2000-01-01', '2000-12-01', freq='BM')\n",
    "#Preserving the time of the start or end timestamp.\n",
    "pd.date_range('2012-05-02 12:56:31', periods=5)\n",
    "#Generating a set of timestamps normalized to midnight as a convention.\n",
    "pd.date_range('2012-05-02 12:56:31', periods=5, normalize=True)"
   ]
  },
  {
   "cell_type": "markdown",
   "metadata": {},
   "source": [
    "## Problem 6"
   ]
  },
  {
   "cell_type": "markdown",
   "metadata": {},
   "source": [
    "#### In this problem, you will demonstrate the usage of frequencies and date offsets. Complete In [83] - In [92] on pages 336-337 of the textbook. "
   ]
  },
  {
   "cell_type": "code",
   "execution_count": 13,
   "metadata": {},
   "outputs": [
    {
     "data": {
      "text/plain": [
       "[Timestamp('2012-01-20 00:00:00', freq='WOM-3FRI'),\n",
       " Timestamp('2012-02-17 00:00:00', freq='WOM-3FRI'),\n",
       " Timestamp('2012-03-16 00:00:00', freq='WOM-3FRI'),\n",
       " Timestamp('2012-04-20 00:00:00', freq='WOM-3FRI'),\n",
       " Timestamp('2012-05-18 00:00:00', freq='WOM-3FRI'),\n",
       " Timestamp('2012-06-15 00:00:00', freq='WOM-3FRI'),\n",
       " Timestamp('2012-07-20 00:00:00', freq='WOM-3FRI'),\n",
       " Timestamp('2012-08-17 00:00:00', freq='WOM-3FRI')]"
      ]
     },
     "execution_count": 13,
     "metadata": {},
     "output_type": "execute_result"
    }
   ],
   "source": [
    "# Insert commenting and code in this cell.\n",
    "#Importing packages.\n",
    "from pandas.tseries.offsets import Hour, Minute\n",
    "#Creating an hour object.\n",
    "hour = Hour()\n",
    "#Displaying hour.\n",
    "hour\n",
    "#Defining multiple offsets.\n",
    "four_hours = Hour(4)\n",
    "#Displaying the contents of four_hours.\n",
    "four_hours\n",
    "#Creating a datarange.\n",
    "pd.date_range('2000-01-01', '2000-01-03 23:59', freq='4h')\n",
    "#Grabbing the third friday of each month.\n",
    "rng = pd.date_range('2012-01-01', '2012-09-01', freq='WOM-3FRI')\n",
    "#Typecasting rng into a list.\n",
    "list(rng)"
   ]
  },
  {
   "cell_type": "markdown",
   "metadata": {},
   "source": [
    "## Problem 7"
   ]
  },
  {
   "cell_type": "markdown",
   "metadata": {},
   "source": [
    "#### In this problem, you will demonstrate a basic time zone handling problem. Complete In [112] - In [119] on pages 341-342 of the textbook."
   ]
  },
  {
   "cell_type": "code",
   "execution_count": 19,
   "metadata": {},
   "outputs": [
    {
     "data": {
      "text/plain": [
       "2012-03-09 09:30:00    1.115621\n",
       "2012-03-10 09:30:00    0.395002\n",
       "2012-03-11 09:30:00    1.144441\n",
       "2012-03-12 09:30:00    0.888881\n",
       "2012-03-13 09:30:00    0.270048\n",
       "2012-03-14 09:30:00   -1.379568\n",
       "Freq: D, dtype: float64"
      ]
     },
     "execution_count": 19,
     "metadata": {},
     "output_type": "execute_result"
    }
   ],
   "source": [
    "# Insert commenting and code in this cell.\n",
    "#Importing a library.\n",
    "import pytz\n",
    "#Finding common timezones.\n",
    "pytz.common_timezones[-5:]\n",
    "#Creating a timezone object.\n",
    "tz = pytz.timezone('America/New_York')\n",
    "#Displaying the timezone object.\n",
    "tz\n",
    "#Creating a data range.\n",
    "rng = pd.date_range('3/9/2012 9:30', periods=6, freq='D')\n",
    "#Creating a time series.\n",
    "ts = pd.Series(np.random.randn(len(rng)), index=rng)\n",
    "#Displaying the time series.\n",
    "ts\n",
    "#Displaying the tz field.\n",
    "print(ts.index.tz)"
   ]
  },
  {
   "cell_type": "markdown",
   "metadata": {},
   "source": [
    "## Problem 8"
   ]
  },
  {
   "cell_type": "markdown",
   "metadata": {},
   "source": [
    "#### In this problem, you will demonstrate operations between different time zones. Complete In [144] - In [150] on page 345 of the textbook."
   ]
  },
  {
   "cell_type": "code",
   "execution_count": 20,
   "metadata": {},
   "outputs": [
    {
     "data": {
      "text/plain": [
       "DatetimeIndex(['2012-03-07 09:30:00+00:00', '2012-03-08 09:30:00+00:00',\n",
       "               '2012-03-09 09:30:00+00:00', '2012-03-12 09:30:00+00:00',\n",
       "               '2012-03-13 09:30:00+00:00', '2012-03-14 09:30:00+00:00',\n",
       "               '2012-03-15 09:30:00+00:00'],\n",
       "              dtype='datetime64[ns, UTC]', freq=None)"
      ]
     },
     "execution_count": 20,
     "metadata": {},
     "output_type": "execute_result"
    }
   ],
   "source": [
    "# Insert commenting and code in this cell.\n",
    "#Creating a date range.\n",
    "rng = pd.date_range('3/7/2012 9:30', periods=10, freq='B')\n",
    "#Creating a time series.\n",
    "ts = pd.Series(np.random.randn(len(rng)), index=rng)\n",
    "#Displaying the contents of the time series.\n",
    "ts\n",
    "#Creating a variable only for Europe/London.\n",
    "ts1 = ts[:7].tz_localize('Europe/London')\n",
    "#Creating a variable only for Europe/Moscow.\n",
    "ts2 = ts1[2:].tz_convert('Europe/Moscow')\n",
    "#Creating a variable that equals the combination of ts1 and ts2.\n",
    "result = ts1 + ts2\n",
    "#Displaying all of the indices inside of the new variable.\n",
    "result.index"
   ]
  },
  {
   "cell_type": "markdown",
   "metadata": {},
   "source": [
    "## Problem 9"
   ]
  },
  {
   "cell_type": "markdown",
   "metadata": {},
   "source": [
    "#### In this problem, you will work with period arithmetic. Complete In [151] - In [162] on pages 345-346 of the textbook."
   ]
  },
  {
   "cell_type": "code",
   "execution_count": 21,
   "metadata": {},
   "outputs": [
    {
     "data": {
      "text/plain": [
       "Period('2007', 'A-DEC')"
      ]
     },
     "execution_count": 21,
     "metadata": {},
     "output_type": "execute_result"
    }
   ],
   "source": [
    "# Insert commenting and code in this cell.\n",
    "#Creating a period.\n",
    "p = pd.Period(2007, freq='A-DEC')\n",
    "#Displaying the period.\n",
    "p"
   ]
  },
  {
   "cell_type": "markdown",
   "metadata": {},
   "source": [
    "## Problem 10"
   ]
  },
  {
   "cell_type": "markdown",
   "metadata": {},
   "source": [
    "#### In this problem, you will be working with the pandas resample method to resample data. Complete In [210] - In [214] on pages 354-355 of the textbook. "
   ]
  },
  {
   "cell_type": "code",
   "execution_count": 22,
   "metadata": {},
   "outputs": [
    {
     "data": {
      "text/plain": [
       "2000-01    0.091852\n",
       "2000-02   -0.049486\n",
       "2000-03   -0.169958\n",
       "2000-04    0.008519\n",
       "Freq: M, dtype: float64"
      ]
     },
     "execution_count": 22,
     "metadata": {},
     "output_type": "execute_result"
    }
   ],
   "source": [
    "# Insert commenting and code in this cell.\n",
    "#Creating a range.\n",
    "rng = pd.date_range('2000-01-01', periods=100, freq='D')\n",
    "#Creating a series that has the range be it's index.\n",
    "ts = pd.Series(np.random.randn(len(rng)), index=rng)\n",
    "#Displaying the series. \n",
    "ts\n",
    "#Working frequency conversion and finding the mean of it.\n",
    "ts.resample('M').mean()\n",
    "#Finding the mean of the period.\n",
    "ts.resample('M', kind='period').mean()"
   ]
  },
  {
   "cell_type": "code",
   "execution_count": null,
   "metadata": {},
   "outputs": [],
   "source": []
  }
 ],
 "metadata": {
  "kernelspec": {
   "display_name": "Python 3 (ipykernel)",
   "language": "python",
   "name": "python3"
  },
  "language_info": {
   "codemirror_mode": {
    "name": "ipython",
    "version": 3
   },
   "file_extension": ".py",
   "mimetype": "text/x-python",
   "name": "python",
   "nbconvert_exporter": "python",
   "pygments_lexer": "ipython3",
   "version": "3.9.7"
  }
 },
 "nbformat": 4,
 "nbformat_minor": 2
}
